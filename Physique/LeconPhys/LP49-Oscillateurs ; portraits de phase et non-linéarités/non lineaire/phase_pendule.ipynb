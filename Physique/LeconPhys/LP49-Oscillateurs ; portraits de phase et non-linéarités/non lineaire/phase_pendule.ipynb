#!/usr/bin/env python3
# -*- coding: utf-8 -*-
"""
Created on Fri Mar 20 18:04:52 2020

@author: nicolas
"""



import numpy as np
import matplotlib.pyplot as plt
import scipy.integrate
from scipy.fftpack import fft

#entré physique
l=100 #m
g=9.81 #m.s^2
m=1 #kg
omega0 =np.sqrt(g/l) #pulsation propre


#Discrétisation du temps------------------------

nombre_pas = 20000
t_final = 300
t = np.linspace(-2*np.pi,t_final,num=nombre_pas)


# système étudié 
def sys(y,t):
    """
    La fonction sys renvoie une liste contenant la dérivée de x et celle de x'
    Pour l'oscillateur harmonique le retour est donc [x',-x]
    """
    x, xprime = y
    return [xprime, -np.sin(x)*omega0**2] #pendule simple non amorti

#Conditions initiales (sous la forme [x, \dot(x)])
y0 = [[-np.pi/8.0,0],[-np.pi/8,0.30],[-3/4*np.pi,0],[-np.pi+0.001,0.0],[-np.pi/8,1.0]]


#intégration
solution = []
for ci in y0:
    solution.append(scipy.integrate.odeint(sys,ci,t))

plt.figure
for sol in solution: # tracé du portrait de phase
    plt.plot(sol[:,0],sol[:,1]/omega0)
    plt.axis('equal')
    plt.xlim(-2*np.pi, 2*np.pi)
    plt.xlabel("Position")
    plt.ylabel("Vitesse/omega0")
plt.legend(y0)
plt.savefig('portrait_phase_pend_simple.pdf')  